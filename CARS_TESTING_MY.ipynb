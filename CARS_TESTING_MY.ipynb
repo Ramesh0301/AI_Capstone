{
 "cells": [
  {
   "cell_type": "code",
   "execution_count": null,
   "id": "9bc4250e",
   "metadata": {},
   "outputs": [],
   "source": [
    "import pandas as pd"
   ]
  },
  {
   "cell_type": "code",
   "execution_count": null,
   "id": "f11dd44b",
   "metadata": {},
   "outputs": [],
   "source": [
    "df = pd.read_csv('C:/Users/amidasa/Downloads/Car_sales_transactions.csv')"
   ]
  },
  {
   "cell_type": "code",
   "execution_count": null,
   "id": "0d8e287c",
   "metadata": {},
   "outputs": [],
   "source": [
    "df.info()"
   ]
  },
  {
   "cell_type": "code",
   "execution_count": null,
   "id": "8b8dfbb0",
   "metadata": {},
   "outputs": [],
   "source": [
    "df_citymaster = pd.read_excel('C:/Users/amidasa/Downloads/City_Master.xlsx')"
   ]
  },
  {
   "cell_type": "code",
   "execution_count": null,
   "id": "e3e2f71c",
   "metadata": {},
   "outputs": [],
   "source": [
    "df_citymaster"
   ]
  },
  {
   "cell_type": "code",
   "execution_count": null,
   "id": "4d7a039c",
   "metadata": {},
   "outputs": [],
   "source": [
    "df_regionmap = pd.read_excel('C:/Users/amidasa/Downloads/Capstone3_UsedCarsData/Region_State_Mapping.xlsx')\n",
    "df_regionmap"
   ]
  },
  {
   "cell_type": "code",
   "execution_count": null,
   "id": "467c95c4",
   "metadata": {},
   "outputs": [],
   "source": [
    "df_regionmaster = pd.read_excel('C:/Users/amidasa/Downloads/Capstone3_UsedCarsData/Region_Master.xlsx')"
   ]
  },
  {
   "cell_type": "code",
   "execution_count": null,
   "id": "a1e7890c",
   "metadata": {},
   "outputs": [],
   "source": [
    "df_statemaster = pd.read_excel('C:/Users/amidasa/Downloads/Capstone3_UsedCarsData/State_Master.xlsx')"
   ]
  },
  {
   "cell_type": "code",
   "execution_count": null,
   "id": "8e2fc22c",
   "metadata": {},
   "outputs": [],
   "source": [
    "df_test = pd.merge(df,df_statemaster,on = 'State_Code',how = 'left')\n",
    "df_test"
   ]
  },
  {
   "cell_type": "code",
   "execution_count": null,
   "id": "cd461df4",
   "metadata": {},
   "outputs": [],
   "source": [
    "df_test = pd.merge(df_test,df_citymaster,on = 'City_Code',how = 'left')\n",
    "df_test"
   ]
  },
  {
   "cell_type": "code",
   "execution_count": null,
   "id": "f4be7b3e",
   "metadata": {},
   "outputs": [],
   "source": [
    "df_test.rename(columns = {'State_Code_y':'State_Code'}, inplace = True)\n",
    "df_test"
   ]
  },
  {
   "cell_type": "code",
   "execution_count": null,
   "id": "d1697195",
   "metadata": {},
   "outputs": [],
   "source": [
    "df_salesstatus = pd.read_csv('C:/Users/amidasa/Downloads/Capstone3_UsedCarsData/Sales_Status.csv')"
   ]
  },
  {
   "cell_type": "code",
   "execution_count": null,
   "id": "a4638c31",
   "metadata": {},
   "outputs": [],
   "source": [
    "df_test = pd.merge(df_test,df_salesstatus,on = 'Sales_ID',how = 'left')"
   ]
  },
  {
   "cell_type": "code",
   "execution_count": null,
   "id": "dc2a5d14",
   "metadata": {},
   "outputs": [],
   "source": [
    "df_test[df_test.Sold == 'Y'].count()"
   ]
  },
  {
   "cell_type": "code",
   "execution_count": null,
   "id": "259ab710",
   "metadata": {
    "scrolled": true
   },
   "outputs": [],
   "source": [
    "df_test"
   ]
  },
  {
   "cell_type": "code",
   "execution_count": null,
   "id": "92762dbb",
   "metadata": {
    "scrolled": true
   },
   "outputs": [],
   "source": [
    "df_test.info()"
   ]
  },
  {
   "cell_type": "code",
   "execution_count": null,
   "id": "0368acd0",
   "metadata": {},
   "outputs": [],
   "source": [
    "del df_test['State_Code_x']"
   ]
  },
  {
   "cell_type": "code",
   "execution_count": null,
   "id": "bc255b11",
   "metadata": {},
   "outputs": [],
   "source": [
    "del df_test['State_Name_y']"
   ]
  },
  {
   "cell_type": "code",
   "execution_count": null,
   "id": "da88628f",
   "metadata": {},
   "outputs": [],
   "source": [
    "del df_test['City_Name_x']"
   ]
  },
  {
   "cell_type": "code",
   "execution_count": null,
   "id": "e8a093dc",
   "metadata": {},
   "outputs": [],
   "source": [
    "df_test = pd.merge(df_test,df_regionmap,on = 'State_Code',how = 'left')"
   ]
  },
  {
   "cell_type": "code",
   "execution_count": null,
   "id": "d484b689",
   "metadata": {},
   "outputs": [],
   "source": [
    "df_test = pd.merge(df_test,df_regionmaster,on = 'Region_Code',how = 'left')"
   ]
  },
  {
   "cell_type": "code",
   "execution_count": null,
   "id": "7e61a92e",
   "metadata": {},
   "outputs": [],
   "source": [
    "import seaborn as sns"
   ]
  },
  {
   "cell_type": "code",
   "execution_count": null,
   "id": "45dbcd88",
   "metadata": {},
   "outputs": [],
   "source": [
    "df_test['Region'].unique()"
   ]
  },
  {
   "cell_type": "code",
   "execution_count": null,
   "id": "161ee6e6",
   "metadata": {},
   "outputs": [],
   "source": [
    "df_grp = df_test.groupby(['Region'])"
   ]
  },
  {
   "cell_type": "code",
   "execution_count": null,
   "id": "600231f5",
   "metadata": {},
   "outputs": [],
   "source": [
    "df_grp['Selling_Price','km_Driven'].mean().round()"
   ]
  },
  {
   "cell_type": "code",
   "execution_count": null,
   "id": "c05e0226",
   "metadata": {},
   "outputs": [],
   "source": [
    "df_test['Year'].unique()"
   ]
  },
  {
   "cell_type": "code",
   "execution_count": null,
   "id": "6b7cf132",
   "metadata": {},
   "outputs": [],
   "source": [
    "df_grp['Selling_Price'].mean().round()"
   ]
  },
  {
   "cell_type": "code",
   "execution_count": null,
   "id": "6101e4f3",
   "metadata": {
    "scrolled": true
   },
   "outputs": [],
   "source": [
    "df_grp['Selling_Price'].max().round()"
   ]
  },
  {
   "cell_type": "code",
   "execution_count": null,
   "id": "4bea1041",
   "metadata": {},
   "outputs": [],
   "source": [
    "df_grp['Selling_Price'].std().round()"
   ]
  },
  {
   "cell_type": "code",
   "execution_count": null,
   "id": "51c9acef",
   "metadata": {},
   "outputs": [],
   "source": [
    "df_grp['Sales_ID'].count()"
   ]
  },
  {
   "cell_type": "code",
   "execution_count": null,
   "id": "6e746636",
   "metadata": {},
   "outputs": [],
   "source": [
    "sns.countplot(df_test[df_test.Sold == 'Y']['Region'] )"
   ]
  },
  {
   "cell_type": "code",
   "execution_count": null,
   "id": "b2e69673",
   "metadata": {},
   "outputs": [],
   "source": [
    "sns.countplot(y=df_test[df_test.Sold == 'Y']['State_Name_x'])"
   ]
  },
  {
   "cell_type": "code",
   "execution_count": null,
   "id": "600782e1",
   "metadata": {},
   "outputs": [],
   "source": [
    "sns.countplot(y = df_test[df_test.Sold == 'Y']['City_Name_y'])"
   ]
  },
  {
   "cell_type": "code",
   "execution_count": null,
   "id": "0fc4ea0a",
   "metadata": {},
   "outputs": [],
   "source": []
  }
 ],
 "metadata": {
  "kernelspec": {
   "display_name": "Python 3 (ipykernel)",
   "language": "python",
   "name": "python3"
  },
  "language_info": {
   "codemirror_mode": {
    "name": "ipython",
    "version": 3
   },
   "file_extension": ".py",
   "mimetype": "text/x-python",
   "name": "python",
   "nbconvert_exporter": "python",
   "pygments_lexer": "ipython3",
   "version": "3.9.13"
  }
 },
 "nbformat": 4,
 "nbformat_minor": 5
}
